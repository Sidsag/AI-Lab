{
 "cells": [
  {
   "cell_type": "code",
   "execution_count": 1,
   "metadata": {},
   "outputs": [
    {
     "name": "stdout",
     "output_type": "stream",
     "text": [
      "Question 1\n",
      "enter type of operation  to be performed?/press Q to exit+\n",
      "enter first number :5\n",
      "enter second number :6\n",
      "sum of numbers is:  11\n",
      "enter type of operation?/press Q to exit*\n",
      "enter first number :198\n",
      "enter second number :123\n",
      "multiplication of numbers is:  24354\n",
      "enter type of operation?/press Q to exit/\n",
      "enter first number :6\n",
      "enter second number :3\n",
      "devision of numbers is:  2.0\n",
      "enter type of operation?/press Q to exit/\n",
      "enter first number :2\n",
      "enter second number :0\n",
      "\n",
      "Error Occurred and Handled\n",
      "enter type of operation?/press Q to exitQ\n",
      "Thank you!!\n"
     ]
    }
   ],
   "source": [
    "print(\"Question 1\")\n",
    "choice=input(\"enter type of operation  to be performed?/press Q to exit\")\n",
    "#taking input untill user specifies explicitly to exit\n",
    "while choice!='Q':\n",
    "    #taking number as input\n",
    "    a=int(input(\"enter first number :\"))\n",
    "    b=int(input(\"enter second number :\"))\n",
    "    #performing operation\n",
    "    if choice=='+':\n",
    "        print(\"sum of numbers is: \",a+b)\n",
    "    elif choice=='-':\n",
    "        print(\"substraction of numbers is: \",a-b)\n",
    "    elif choice=='*':\n",
    "        print(\"multiplication of numbers is: \",a*b)\n",
    "    elif choice=='/':\n",
    "        #handling exception division by zero\n",
    "        try:\n",
    "         a/b;\n",
    "         print(\"devision of numbers is: \",a/b);\n",
    "        except(ZeroDivisionError): \n",
    "         print (\"\\nError Occurred and Handled\")\n",
    "    choice=input(\"enter type of operation?/press Q to exit\")\n",
    "\n",
    "print(\"Thank you!!\")"
   ]
  },
  {
   "cell_type": "code",
   "execution_count": 4,
   "metadata": {},
   "outputs": [
    {
     "name": "stdout",
     "output_type": "stream",
     "text": [
      "Question 2\n",
      "Enter the sentence : PARAM 8000 is India's first supercomputer\n",
      "after reversing the word, sentence is:  supercomputer first India's is 8000 PARAM \n"
     ]
    }
   ],
   "source": [
    "print(\"Question 2\")\n",
    "#taking sentence as input\n",
    "sentence= input(\"Enter the sentence : \")\n",
    "\n",
    "#split it into words\n",
    "words= sentence.split(\" \")\n",
    "words.reverse()\n",
    "newsentence=\"\"\n",
    "#reversing the sentence\n",
    "for i in words:\n",
    "    newsentence = newsentence + i + \" \"\n",
    "\n",
    "newsentence.strip()\n",
    "print(\"after reversing the word, sentence is: \",newsentence)"
   ]
  },
  {
   "cell_type": "code",
   "execution_count": 5,
   "metadata": {},
   "outputs": [
    {
     "name": "stdout",
     "output_type": "stream",
     "text": [
      "Question 3\n",
      "\n",
      "frequency of the occurrence of each alphabet is :\n",
      "a 72\n",
      "b 7\n",
      "c 48\n",
      "d 32\n",
      "e 119\n",
      "f 20\n",
      "g 24\n",
      "h 34\n",
      "i 84\n",
      "j 1\n",
      "k 5\n",
      "l 39\n",
      "m 37\n",
      "n 66\n",
      "o 69\n",
      "p 34\n",
      "q 2\n",
      "r 67\n",
      "s 64\n",
      "t 81\n",
      "u 17\n",
      "v 12\n",
      "w 7\n",
      "x 5\n",
      "y 15\n",
      "z 1\n"
     ]
    }
   ],
   "source": [
    "print(\"Question 3\")\n",
    "import string\n",
    "#open the file named text.txt\n",
    "with open(\"text.txt\") as f:\n",
    "    content= f.read()\n",
    "#storing the count in the list freq   \n",
    "freq = {}\n",
    "alphabets= list(string.ascii_lowercase)\n",
    "#print(alphabets)\n",
    "#counting the occurance of alphabates\n",
    "for i in alphabets:\n",
    "#     print(i)\n",
    "    c= content.count(i)\n",
    "    freq.update({i: c})\n",
    "print(\"\\nfrequency of the occurrence of each alphabet is :\")\n",
    "for i in freq:\n",
    "    print (i, freq[i])"
   ]
  },
  {
   "cell_type": "code",
   "execution_count": 6,
   "metadata": {},
   "outputs": [
    {
     "name": "stdout",
     "output_type": "stream",
     "text": [
      "Question 4\n",
      "Enter the number : 159\n",
      "Enter the precision : 0.002\n",
      "square root of  159  is:  12.609598159790039\n"
     ]
    }
   ],
   "source": [
    "print(\"Question 4\")\n",
    "n = int(input(\"Enter the number : \"))\n",
    "p = float(input(\"Enter the precision : \"))\n",
    "\n",
    "start= 0\n",
    "end= n\n",
    "ans = 1\n",
    "\n",
    "while start <= end:\n",
    "    mid = (start+end)/2\n",
    "    \n",
    "    estdsq = mid*mid\n",
    "    err= estdsq - n  #error\n",
    "    abserr= abs(err) #absolute error\n",
    "    \n",
    "    if(abserr < p):  #less than precision then terminate\n",
    "        ans= mid\n",
    "        break\n",
    "    \n",
    "    if(err > 0):     \n",
    "        end = mid\n",
    "    else:\n",
    "        start= mid\n",
    "        \n",
    "print(\"square root of \",n,\" is: \",ans)"
   ]
  },
  {
   "cell_type": "code",
   "execution_count": 7,
   "metadata": {},
   "outputs": [
    {
     "name": "stdout",
     "output_type": "stream",
     "text": [
      "Question 5\n",
      "minima occure at X:  -3.0 ,Y:  0.0\n"
     ]
    },
    {
     "data": {
      "image/png": "[encoded data removed]",
      "text/plain": [
       "<Figure size 432x288 with 1 Axes>"
      ]
     },
     "metadata": {
      "needs_background": "light"
     },
     "output_type": "display_data"
    }
   ],
   "source": [
    "print(\"Question 5\")\n",
    "#importing library to plot function \n",
    "import matplotlib.pyplot as plt\n",
    "import numpy as np\n",
    "#defining the given funtion\n",
    "def f(x):\n",
    " return (x+3)**2;\n",
    "#defining derivative of funtion\n",
    "def dery(x):\n",
    " return 2*(x+3);\n",
    "#Defining gradient descent function which takes starting value of x, alpha and number of iterations as input\n",
    "def gradientDescent(x, alpha, num_iters):\n",
    " for item in range(num_iters):\n",
    "   y=f(x)\n",
    "   update=dery(x) #get derivative\n",
    "   x=x-alpha*update #modify value of x\n",
    " return x; #return minima\n",
    "\n",
    "#getting minima using gradient descent function\n",
    "res=gradientDescent(-8, 0.3,50)\n",
    "print(\"minima occure at X: \",res,\",Y: \",f(res))\n",
    "\n",
    "#plotting the curve\n",
    "x = np.linspace(-5,5,100)\n",
    "\n",
    "y = f(x)\n",
    "\n",
    "# setting the axes at the centre\n",
    "fig = plt.figure()\n",
    "ax = fig.add_subplot(1, 1, 1)\n",
    "ax.spines['left'].set_position('center')\n",
    "ax.spines['bottom'].set_position('zero')\n",
    "ax.spines['right'].set_color('none')\n",
    "ax.spines['top'].set_color('none')\n",
    "ax.xaxis.set_ticks_position('bottom')\n",
    "ax.yaxis.set_ticks_position('left')\n",
    "\n",
    "# plot the function\n",
    "plt.plot(x,y, 'r')\n",
    "#plot the minima\n",
    "plt.scatter(res,f(res))\n",
    "# show the plot\n",
    "plt.show()"
   ]
  },
  {
   "cell_type": "code",
   "execution_count": 8,
   "metadata": {},
   "outputs": [
    {
     "name": "stdout",
     "output_type": "stream",
     "text": [
      "Question 6\n",
      "vector a is:  [5, 6, 7, 8]\n",
      "vector b is:  [1, 3, 9, -11]\n",
      "length of vector a is:  2.8284271247461903\n",
      "Cosine similarity between a & b is:  -0.0104132774794396\n",
      "Euclidean distance between a & b is:  19.748417658131498\n"
     ]
    }
   ],
   "source": [
    "print(\"Question 6\")\n",
    "import math\n",
    "#creating class vector\n",
    "class myvector:\n",
    "    lst= []\n",
    "    #constructor to assign values to class myvector\n",
    "    def __init__(self, x1, y1, x2, y2):\n",
    "        self.lst=[]\n",
    "        self.lst.append(x1)\n",
    "        self.lst.append(y1)\n",
    "        self.lst.append(x2)\n",
    "        self.lst.append(y2)\n",
    "    \n",
    "    #funtion to determine Length of vector\n",
    "    def length(self):\n",
    "        return math.sqrt((self.lst[0]-self.lst[2])**2 + (self.lst[1]-self.lst[3])**2)\n",
    "    \n",
    "    #funtion to determine Cosine similarity between two vectors\n",
    "    def cosine_similarity(self, b):\n",
    "        sumxx, sumyy, sumxy = 0,0,0\n",
    "        for i in range(4):\n",
    "            x= self.lst[i]\n",
    "            y= b.lst[i]\n",
    "            \n",
    "            sumxx += x**2\n",
    "            sumyy += y**2\n",
    "            sumxy += x*y\n",
    "        return sumxy/math.sqrt(sumxx*sumyy)\n",
    "    \n",
    "    #funtion to determine Euclidean distance between two vectors\n",
    "    def euclidean_distance(self, b):\n",
    "        d= 0\n",
    "        l = b.lst\n",
    "        for i in range(4):\n",
    "            #print(self.lst[i], l[i])\n",
    "            d = d + (self.lst[i]- l[i])**2\n",
    "        \n",
    "        return math.sqrt(d)\n",
    "    \n",
    "#creating instances of class myvector    \n",
    "a= myvector(5,6,7,8)\n",
    "print(\"vector a is: \",a.lst)\n",
    "b= myvector(1,3, 9,-11)\n",
    "print(\"vector b is: \",b.lst)\n",
    "print(\"length of vector a is: \",a.length())\n",
    "print(\"Cosine similarity between a & b is: \",a.cosine_similarity(b))\n",
    "print(\"Euclidean distance between a & b is: \",a.euclidean_distance(b))"
   ]
  },
  {
   "cell_type": "code",
   "execution_count": null,
   "metadata": {},
   "outputs": [],
   "source": []
  }
 ],
 "metadata": {
  "kernelspec": {
   "display_name": "Python 3",
   "language": "python",
   "name": "python3"
  },
  "language_info": {
   "codemirror_mode": {
    "name": "ipython",
    "version": 3
   },
   "file_extension": ".py",
   "mimetype": "text/x-python",
   "name": "python",
   "nbconvert_exporter": "python",
   "pygments_lexer": "ipython3",
   "version": "3.7.6"
  }
 },
 "nbformat": 4,
 "nbformat_minor": 4
}
